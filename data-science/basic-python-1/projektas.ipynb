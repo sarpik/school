{
 "cells": [
  {
   "cell_type": "code",
   "execution_count": 9,
   "metadata": {},
   "outputs": [
    {
     "name": "stdout",
     "output_type": "stream",
     "text": [
      "Iveskite metus: 2012\n",
      "kiek_naujagimiu = 13923\n"
     ]
    }
   ],
   "source": [
    "import pandas # .csv failo skaitymas\n",
    "\n",
    "failas = pandas.read_csv(\"All names.csv\", \";\", low_memory=False) # nuskaitom visa faila; low_memory, kad panaikint error'a\n",
    "\n",
    "def pagal_metus_kiek_vardu(metai):\n",
    "\tnaujagimiai = failas[failas.metai == metai] # prafiltruoja faila - pasiima tik tas eilutes, kurios atitinka pasirnktus metus\n",
    "\tkiek_naujagimiu = len(naujagimiai) # suskaiciuoja, kiek is viso buvo naujagimiu tais metais\n",
    "    \n",
    "\tprint(\"kiek_naujagimiu = {0}\".format(kiek_naujagimiu)) # isspausdina rasta naujagimiu skaiciu\n",
    "\n",
    "\n",
    "metai = input(\"Iveskite metus: \") # leidzia vartotojui pasirinkti metus (svarbu - metai .csv faile nuo 2009 iki 2018)\n",
    "pagal_metus_kiek_vardu(metai) # iskviecia funkcija su pasirinktais metais, jog si rastu naujagimiu skaiciu\n"
   ]
  },
  {
   "cell_type": "code",
   "execution_count": null,
   "metadata": {},
   "outputs": [],
   "source": []
  },
  {
   "cell_type": "code",
   "execution_count": 13,
   "metadata": {},
   "outputs": [
    {
     "name": "stdout",
     "output_type": "stream",
     "text": [
      "Iveskite metus: 2015\n",
      "kiek_berniuku = 6079, kiek_mergaiciu = 7469, ko_daugiau = mergaiciu\n"
     ]
    }
   ],
   "source": [
    "import pandas # .csv failo skaitymas\n",
    "\n",
    "failas = pandas.read_csv(\"All names.csv\", \";\", low_memory=False)\n",
    "\n",
    "def pagal_metus_kurios_lyties_daugiau(metai):\n",
    "\tduomenys = failas[failas.metai == metai]\n",
    "\n",
    "\tberniukai = duomenys[duomenys.lytis == \"Male\"  ]\n",
    "\tmergaites = duomenys[duomenys.lytis == \"Female\"]\n",
    "\n",
    "\tkiek_berniuku  = len(berniukai)\n",
    "\tkiek_mergaiciu = len(mergaites)\n",
    "\n",
    "\tko_daugiau = \\\n",
    "\t\t     'berniuku'  if kiek_berniuku  > kiek_mergaiciu \\\n",
    "\t\telse 'mergaiciu' if kiek_mergaiciu > kiek_berniuku  \\\n",
    "\t\telse 'lygiai'\n",
    "\n",
    "\tprint(\"kiek_berniuku = {0}, kiek_mergaiciu = {1}, ko_daugiau = {2}\".format(kiek_berniuku, kiek_mergaiciu, ko_daugiau))\n",
    "\n",
    "\n",
    "metai = input(\"Iveskite metus: \")\n",
    "pagal_metus_kurios_lyties_daugiau(metai)\n"
   ]
  },
  {
   "cell_type": "code",
   "execution_count": null,
   "metadata": {},
   "outputs": [],
   "source": []
  },
  {
   "cell_type": "code",
   "execution_count": 15,
   "metadata": {},
   "outputs": [
    {
     "name": "stdout",
     "output_type": "stream",
     "text": [
      "Iveskite varda: john\n",
      "kiek_su_tuo_vardu = 10\n"
     ]
    },
    {
     "data": {
      "image/png": "[encoded data removed]",
      "text/plain": [
       "<Figure size 432x288 with 1 Axes>"
      ]
     },
     "metadata": {
      "needs_background": "light"
     },
     "output_type": "display_data"
    }
   ],
   "source": [
    "import pandas # .csv failo skaitymas\n",
    "from matplotlib import pyplot as plt # grafiko atvaizdavimas\n",
    "\n",
    "failas = pandas.read_csv(\"All names.csv\", \";\", low_memory=False)\n",
    "\n",
    "def pagal_varda_populiarumas_kasmet(vardas):\n",
    "\t# filtruojam nekreipdami demesio i didziasias/mazasias raides ir pasalinius tarpus\n",
    "    # .strip() nuvalo pasalinius tarpus;\n",
    "    # .lower() sumazina raides i lowercase.\n",
    " \tvisi_su_tuo_vardu = failas[failas.vardas.str.lower().str.strip() == vardas.lower().strip()]\n",
    "\n",
    "\tkiek_su_tuo_vardu = len(visi_su_tuo_vardu)\n",
    "\tprint(\"kiek_su_tuo_vardu = {0}\".format(kiek_su_tuo_vardu))\n",
    "\n",
    "    # sukuriam grafika:\n",
    "    # x asiai - metai;\n",
    "    # y asiai - naujagimiu skaicius;\n",
    "    # nustatom grafiko tasku spalva ir forma.\n",
    "\tplt.plot(visi_su_tuo_vardu.metai, visi_su_tuo_vardu.naujagimiu_sk, \"bs\")\n",
    "\n",
    "    # uzdedam etiketes\n",
    "\tplt.xlabel(\"Metai\")\n",
    "\tplt.ylabel(\"Naujagimiu skaicius\")\n",
    "\n",
    "    # sukuriam legenda \n",
    "\tplt.legend([\"Naujagimiu skaicius\"])\n",
    "\n",
    "    # rodom grafika 🎉\n",
    "\tplt.show()\n",
    "\n",
    "\n",
    "vardas = raw_input(\"Iveskite varda: \")\n",
    "pagal_varda_populiarumas_kasmet(vardas)\n"
   ]
  },
  {
   "cell_type": "code",
   "execution_count": null,
   "metadata": {},
   "outputs": [],
   "source": []
  },
  {
   "cell_type": "code",
   "execution_count": 19,
   "metadata": {},
   "outputs": [
    {
     "name": "stdout",
     "output_type": "stream",
     "text": [
      "Iveskite metus: 2015\n",
      "Iveskite varda: harry\n",
      "kiek_naujagimiu_tuo_vardu = 5308\n"
     ]
    }
   ],
   "source": [
    "# programa, randanti, kiek buvo naujagimiu.\n",
    "\n",
    "import pandas # .csv failo skaitymas\n",
    "    \n",
    "failas = pandas.read_csv(\"All names.csv\", \";\", low_memory=False)\n",
    "\n",
    "def pagal_metus_ir_varda_kiek_naujagimiu(metai, vardas):\n",
    "\t# randam naujagimi pagal metus ir varda.\n",
    "\t# `&` reiskia `ir` - abi salygos turi atitikti\n",
    "\tnaujagimis = failas[(failas.metai == metai) & (failas.vardas.str.lower().str.strip() == vardas.lower().strip())]\n",
    "    \n",
    "\t# sutvarkom skaiciu\n",
    "    # .str.replace pakeicia is vieno i kita:\n",
    "    # siuo atveju, istrina nereikalingus tarpus viduje\n",
    "\tkiek_naujagimiu_tuo_vardu = int(naujagimis.naujagimiu_sk.str.replace(\" \", \"\"))\n",
    "\n",
    "\tprint(\"kiek_naujagimiu_tuo_vardu = {0}\".format(kiek_naujagimiu_tuo_vardu))\n",
    "\n",
    "metai =      input(\"Iveskite metus: \")\n",
    "vardas = raw_input(\"Iveskite varda: \")\n",
    " \n",
    "pagal_metus_ir_varda_kiek_naujagimiu(metai, vardas)\n"
   ]
  },
  {
   "cell_type": "code",
   "execution_count": null,
   "metadata": {},
   "outputs": [],
   "source": []
  },
  {
   "cell_type": "code",
   "execution_count": null,
   "metadata": {},
   "outputs": [],
   "source": []
  }
 ],
 "metadata": {
  "kernelspec": {
   "display_name": "Python 2",
   "language": "python",
   "name": "python2"
  },
  "language_info": {
   "codemirror_mode": {
    "name": "ipython",
    "version": 2
   },
   "file_extension": ".py",
   "mimetype": "text/x-python",
   "name": "python",
   "nbconvert_exporter": "python",
   "pygments_lexer": "ipython2",
   "version": "2.7.16"
  }
 },
 "nbformat": 4,
 "nbformat_minor": 4
}
