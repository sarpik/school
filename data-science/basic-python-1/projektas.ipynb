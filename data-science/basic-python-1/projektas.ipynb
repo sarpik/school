{
 "cells": [
  {
   "cell_type": "code",
   "execution_count": 1,
   "metadata": {},
   "outputs": [
    {
     "name": "stdout",
     "output_type": "stream",
     "text": [
      "Iveskite metus: 2014\n",
      "kiek_naujagimiu = 13472\n"
     ]
    }
   ],
   "source": [
    "import pandas # .csv failo skaitymas\n",
    "\n",
    "failas = pandas.read_csv(\"All names.csv\", \";\", low_memory=False)\n",
    "\n",
    "def pagal_metus_kiek_vardu(metai):\n",
    "\tnaujagimiai = failas[failas.metai == metai]\n",
    "\tkiek_naujagimiu = len(naujagimiai)\n",
    "\n",
    "\tprint(\"kiek_naujagimiu = {0}\".format(kiek_naujagimiu))\n",
    "\n",
    "\n",
    "metai = input(\"Iveskite metus: \")\n",
    "pagal_metus_kiek_vardu(metai)\n"
   ]
  },
  {
   "cell_type": "code",
   "execution_count": null,
   "metadata": {},
   "outputs": [],
   "source": []
  },
  {
   "cell_type": "code",
   "execution_count": 5,
   "metadata": {},
   "outputs": [
    {
     "name": "stdout",
     "output_type": "stream",
     "text": [
      "Iveskite metus: 2014\n",
      "kiek_berniuku = 6035, kiek_mergaiciu = 7437, ko_daugiau = mergaiciu\n"
     ]
    }
   ],
   "source": [
    "import pandas # .csv failo skaitymas\n",
    "\n",
    "failas = pandas.read_csv(\"All names.csv\", \";\", low_memory=False)\n",
    "\n",
    "def pagal_metus_kurios_lyties_daugiau(metai):\n",
    "\tduomenys = failas[failas.metai == metai]\n",
    "\n",
    "\tberniukai = duomenys[duomenys.lytis == \"Male\"  ]\n",
    "\tmergaites = duomenys[duomenys.lytis == \"Female\"]\n",
    "\n",
    "\tkiek_berniuku  = len(berniukai)\n",
    "\tkiek_mergaiciu = len(mergaites)\n",
    "\n",
    "\tko_daugiau = \\\n",
    "\t\t     'berniuku'  if kiek_berniuku  > kiek_mergaiciu \\\n",
    "\t\telse 'mergaiciu' if kiek_mergaiciu > kiek_berniuku  \\\n",
    "\t\telse 'lygiai'\n",
    "\n",
    "\tprint(\"kiek_berniuku = {0}, kiek_mergaiciu = {1}, ko_daugiau = {2}\".format(kiek_berniuku, kiek_mergaiciu, ko_daugiau))\n",
    "\n",
    "\n",
    "metai = input(\"Iveskite metus: \")\n",
    "pagal_metus_kurios_lyties_daugiau(metai)\n"
   ]
  },
  {
   "cell_type": "code",
   "execution_count": null,
   "metadata": {},
   "outputs": [],
   "source": []
  },
  {
   "cell_type": "code",
   "execution_count": 3,
   "metadata": {},
   "outputs": [
    {
     "name": "stdout",
     "output_type": "stream",
     "text": [
      "Iveskite varda: joshua\n",
      "kiek_su_tuo_vardu = 10\n"
     ]
    },
    {
     "data": {
      "image/png": "[encoded data removed]",
      "text/plain": [
       "<Figure size 432x288 with 1 Axes>"
      ]
     },
     "metadata": {
      "needs_background": "light"
     },
     "output_type": "display_data"
    }
   ],
   "source": [
    "import pandas # .csv failo skaitymas\n",
    "from matplotlib import pyplot as plt # grafiko atvaizdavimas\n",
    "\n",
    "failas = pandas.read_csv(\"All names.csv\", \";\", low_memory=False)\n",
    "\n",
    "def pagal_varda_populiarumas_kasmet(vardas):\n",
    "\t# filtruojam nekreipdami demesio i didziasias/mazasias raides ir pasalinius tarpus\n",
    "\tvisi_su_tuo_vardu = failas[failas.vardas.str.lower().str.strip() == vardas.lower().strip()]\n",
    "\n",
    "\tkiek_su_tuo_vardu = len(visi_su_tuo_vardu)\n",
    "\tprint(\"kiek_su_tuo_vardu = {0}\".format(kiek_su_tuo_vardu))\n",
    "\n",
    "\tplt.plot(visi_su_tuo_vardu.metai, visi_su_tuo_vardu.naujagimiu_sk, \"bs\")\n",
    "\n",
    "\tplt.xlabel(\"Metai\")\n",
    "\tplt.ylabel(\"Naujagimiu skaicius\")\n",
    "\n",
    "\tplt.legend([\"Naujagimiu skaicius\"])\n",
    "\n",
    "\tplt.show()\n",
    "\n",
    "\n",
    "vardas = raw_input(\"Iveskite varda: \")\n",
    "pagal_varda_populiarumas_kasmet(vardas)\n"
   ]
  },
  {
   "cell_type": "code",
   "execution_count": null,
   "metadata": {},
   "outputs": [],
   "source": []
  },
  {
   "cell_type": "code",
   "execution_count": 1,
   "metadata": {},
   "outputs": [
    {
     "name": "stdout",
     "output_type": "stream",
     "text": [
      "Iveskite metus: 2014\n",
      "Iveskite varda: joshua\n",
      "kiek_naujagimiu_tuo_vardu = 3812\n"
     ]
    }
   ],
   "source": [
    "# programa, randanti, kiek buvo naujagimiu.\n",
    "\n",
    "import pandas # .csv failo skaitymas\n",
    "    \n",
    "failas = pandas.read_csv(\"All names.csv\", \";\", low_memory=False) # low_memory del nevienodu duomenu tipu faile \n",
    " \n",
    "def pagal_metus_ir_varda_kiek_naujagimiu(metai, vardas):\n",
    "\t# randam naujagimi pagal metus ir varda.\n",
    "\t# `&` reiskia `ir` - abi salygos turi atitikti\n",
    "\tnaujagimis = failas[(failas.metai == metai) & (failas.vardas.str.lower().str.strip() == vardas.lower().strip())]\n",
    "    \n",
    "\t# sutvarkom skaiciu\n",
    "\tkiek_naujagimiu_tuo_vardu = int(naujagimis.naujagimiu_sk.str.replace(\" \", \"\"))\n",
    "\n",
    "\tprint(\"kiek_naujagimiu_tuo_vardu = {0}\".format(kiek_naujagimiu_tuo_vardu))\n",
    "\n",
    "metai =  input(\"Iveskite metus: \")\n",
    "vardas = raw_input(\"Iveskite varda: \") \n",
    " \n",
    "pagal_metus_ir_varda_kiek_naujagimiu(metai, vardas)"
   ]
  },
  {
   "cell_type": "code",
   "execution_count": null,
   "metadata": {},
   "outputs": [],
   "source": []
  }
 ],
 "metadata": {
  "kernelspec": {
   "display_name": "Python 2",
   "language": "python",
   "name": "python2"
  },
  "language_info": {
   "codemirror_mode": {
    "name": "ipython",
    "version": 2
   },
   "file_extension": ".py",
   "mimetype": "text/x-python",
   "name": "python",
   "nbconvert_exporter": "python",
   "pygments_lexer": "ipython2",
   "version": "2.7.16"
  }
 },
 "nbformat": 4,
 "nbformat_minor": 4
}
